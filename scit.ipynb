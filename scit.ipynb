{
 "cells": [
  {
   "cell_type": "code",
   "execution_count": 12,
   "metadata": {},
   "outputs": [],
   "source": [
    "import streamlit as st\n",
    "import pandas as pd\n",
    "import numpy as np\n",
    "import matplotlib.pyplot as plt\n",
    "import plotly.express as px\n",
    "from fredapi import Fred\n",
    "from dotenv import load_dotenv\n",
    "import os\n",
    "from sklearn.model_selection import train_test_split\n",
    "from sklearn.linear_model import LinearRegression\n",
    "from sklearn.metrics import mean_squared_error, r2_score\n"
   ]
  },
  {
   "cell_type": "code",
   "execution_count": 13,
   "metadata": {},
   "outputs": [
    {
     "name": "stdout",
     "output_type": "stream",
     "text": [
      "Dataset shape: (20640, 8)\n",
      "Feature names: ['MedInc', 'HouseAge', 'AveRooms', 'AveBedrms', 'Population', 'AveOccup', 'Latitude', 'Longitude']\n",
      "Target name: ['MedHouseVal']\n"
     ]
    }
   ],
   "source": [
    "\n",
    "# The load_boston dataset has been removed from scikit-learn.\n",
    "# We'll use the California housing dataset instead.\n",
    "from sklearn.datasets import fetch_california_housing\n",
    "\n",
    "# Fetch the California housing dataset\n",
    "housing = fetch_california_housing()\n",
    "X, y = housing.data, housing.target\n",
    "\n",
    "# Print some information about the dataset\n",
    "print(\"Dataset shape:\", X.shape)\n",
    "print(\"Feature names:\", housing.feature_names)\n",
    "print(\"Target name:\", housing.target_names)\n"
   ]
  },
  {
   "cell_type": "code",
   "execution_count": 14,
   "metadata": {},
   "outputs": [
    {
     "name": "stdout",
     "output_type": "stream",
     "text": [
      "Linear Regression Results:\n",
      "Mean Squared Error: 0.555891598695242\n",
      "R-squared Score: 0.5757877060324526\n",
      "\n",
      "K-Nearest Neighbors Results:\n",
      "Mean Squared Error: 1.1186823858768293\n",
      "R-squared Score: 0.14631049965900345\n",
      "\n",
      "First 3 predictions (Linear Regression): [0.71912284 1.76401657 2.70965883]\n",
      "First 3 predictions (KNN): [1.623  1.0822 2.8924]\n"
     ]
    }
   ],
   "source": [
    "from sklearn.neighbors import KNeighborsRegressor\n",
    "\n",
    "# Split the data into training and testing sets\n",
    "X_train, X_test, y_train, y_test = train_test_split(X, y, test_size=0.2, random_state=42)\n",
    "\n",
    "# Initialize and train the Linear Regression model\n",
    "lr_model = LinearRegression()\n",
    "lr_model.fit(X_train, y_train)\n",
    "\n",
    "# Make predictions on the test set\n",
    "lr_predictions = lr_model.predict(X_test)\n",
    "\n",
    "# Print some evaluation metrics\n",
    "print(\"Linear Regression Results:\")\n",
    "print(\"Mean Squared Error:\", mean_squared_error(y_test, lr_predictions))\n",
    "print(\"R-squared Score:\", r2_score(y_test, lr_predictions))\n",
    "\n",
    "# Initialize and train the K-Nearest Neighbors model\n",
    "knn_model = KNeighborsRegressor(n_neighbors=5)\n",
    "knn_model.fit(X_train, y_train)\n",
    "\n",
    "# Make predictions on the test set\n",
    "knn_predictions = knn_model.predict(X_test)\n",
    "\n",
    "# Print some evaluation metrics\n",
    "print(\"\\nK-Nearest Neighbors Results:\")\n",
    "print(\"Mean Squared Error:\", mean_squared_error(y_test, knn_predictions))\n",
    "print(\"R-squared Score:\", r2_score(y_test, knn_predictions))\n",
    "\n",
    "# Print the first 3 predictions from both models\n",
    "print(\"\\nFirst 3 predictions (Linear Regression):\", lr_predictions[:3])\n",
    "print(\"First 3 predictions (KNN):\", knn_predictions[:3])\n",
    "# Import KNeighborsRegressor\n",
    "\n",
    "# The rest of the code remains the same\n",
    "\n"
   ]
  },
  {
   "cell_type": "code",
   "execution_count": 15,
   "metadata": {},
   "outputs": [
    {
     "name": "stderr",
     "output_type": "stream",
     "text": [
      "/var/folders/bb/h215m9_n4s942nm7pw18_zrr0000gn/T/ipykernel_26422/1408758940.py:19: UserWarning:\n",
      "\n",
      "FigureCanvasAgg is non-interactive, and thus cannot be shown\n",
      "\n"
     ]
    }
   ],
   "source": [
    "# Load the California housing dataset\n",
    "housing = fetch_california_housing()\n",
    "X, y = housing.data, housing.target\n",
    "\n",
    "# Create a KNeighborsRegressor model\n",
    "mod = KNeighborsRegressor().fit(X, y)\n",
    "\n",
    "# Make predictions\n",
    "pred = mod.predict(X)\n",
    "\n",
    "# Create a scatter plot\n",
    "plt.figure(figsize=(10, 6))\n",
    "plt.scatter(pred, y, alpha=0.5)\n",
    "plt.xlabel('Predicted Values')\n",
    "plt.ylabel('Actual Values')\n",
    "plt.title('KNN Regression: Predicted vs Actual Values')\n",
    "plt.plot([y.min(), y.max()], [y.min(), y.max()], 'r--', lw=2)  # Add a diagonal line\n",
    "plt.tight_layout()\n",
    "plt.show()\n"
   ]
  },
  {
   "cell_type": "code",
   "execution_count": 16,
   "metadata": {},
   "outputs": [
    {
     "name": "stderr",
     "output_type": "stream",
     "text": [
      "/var/folders/bb/h215m9_n4s942nm7pw18_zrr0000gn/T/ipykernel_26422/3045928940.py:18: UserWarning:\n",
      "\n",
      "FigureCanvasAgg is non-interactive, and thus cannot be shown\n",
      "\n"
     ]
    }
   ],
   "source": [
    "housing = fetch_california_housing()\n",
    "X, y = housing.data, housing.target\n",
    "\n",
    "# Create a KNeighborsRegressor model\n",
    "mod = KNeighborsRegressor().fit(X, y)\n",
    "\n",
    "# Make predictions\n",
    "pred = mod.predict(X)\n",
    "\n",
    "# Create a scatter plot\n",
    "plt.figure(figsize=(10, 6))\n",
    "plt.scatter(pred, y, alpha=0.5)\n",
    "plt.xlabel('Predicted Values')\n",
    "plt.ylabel('Actual Values')\n",
    "plt.title('KNN Regression: Predicted vs Actual Values')\n",
    "plt.plot([y.min(), y.max()], [y.min(), y.max()], 'r--', lw=2)  # Add a diagonal line\n",
    "plt.tight_layout()\n",
    "plt.show()"
   ]
  },
  {
   "cell_type": "code",
   "execution_count": 17,
   "metadata": {},
   "outputs": [
    {
     "name": "stderr",
     "output_type": "stream",
     "text": [
      "2024-09-14 13:19:29.171 Thread 'MainThread': missing ScriptRunContext! This warning can be ignored when running in bare mode.\n",
      "2024-09-14 13:19:29.173 Thread 'MainThread': missing ScriptRunContext! This warning can be ignored when running in bare mode.\n",
      "2024-09-14 13:19:29.173 Thread 'MainThread': missing ScriptRunContext! This warning can be ignored when running in bare mode.\n"
     ]
    },
    {
     "data": {
      "text/plain": [
       "DeltaGenerator()"
      ]
     },
     "execution_count": 17,
     "metadata": {},
     "output_type": "execute_result"
    }
   ],
   "source": [
    "housing = fetch_california_housing()\n",
    "X, y = housing.data, housing.target\n",
    "\n",
    "# Create a KNeighborsRegressor model\n",
    "mod = KNeighborsRegressor().fit(X, y)\n",
    "\n",
    "# Make predictions\n",
    "pred = mod.predict(X)\n",
    "\n",
    "# Create a scatter plot using Plotly Express\n",
    "fig = px.scatter(x=pred, y=y, labels={'x': 'Predicted Values', 'y': 'Actual Values'},\n",
    "                 title='KNN Regression: Predicted vs Actual Values')\n",
    "\n",
    "# Add a diagonal line\n",
    "fig.add_scatter(x=[y.min(), y.max()], y=[y.min(), y.max()], mode='lines', \n",
    "                line=dict(color='red', dash='dash'), name='Perfect Prediction')\n",
    "\n",
    "# Display the plot using Streamlit\n",
    "st.plotly_chart(fig)"
   ]
  },
  {
   "cell_type": "code",
   "execution_count": 18,
   "metadata": {},
   "outputs": [
    {
     "ename": "NameError",
     "evalue": "name 'get_unemployment_data' is not defined",
     "output_type": "error",
     "traceback": [
      "\u001b[0;31m---------------------------------------------------------------------------\u001b[0m",
      "\u001b[0;31mNameError\u001b[0m                                 Traceback (most recent call last)",
      "Cell \u001b[0;32mIn[18], line 2\u001b[0m\n\u001b[1;32m      1\u001b[0m \u001b[38;5;66;03m# Load the unemployment data\u001b[39;00m\n\u001b[0;32m----> 2\u001b[0m uemp_states \u001b[38;5;241m=\u001b[39m \u001b[43mget_unemployment_data\u001b[49m()\n\u001b[1;32m      4\u001b[0m \u001b[38;5;28;01mif\u001b[39;00m \u001b[38;5;129;01mnot\u001b[39;00m uemp_states\u001b[38;5;241m.\u001b[39mempty:\n\u001b[1;32m      5\u001b[0m     \u001b[38;5;66;03m# Prepare the data for modeling\u001b[39;00m\n\u001b[1;32m      6\u001b[0m     X \u001b[38;5;241m=\u001b[39m uemp_states\u001b[38;5;241m.\u001b[39mindex\u001b[38;5;241m.\u001b[39mastype(\u001b[38;5;28mint\u001b[39m)\u001b[38;5;241m.\u001b[39mvalues\u001b[38;5;241m.\u001b[39mreshape(\u001b[38;5;241m-\u001b[39m\u001b[38;5;241m1\u001b[39m, \u001b[38;5;241m1\u001b[39m)  \u001b[38;5;66;03m# Convert dates to integers\u001b[39;00m\n",
      "\u001b[0;31mNameError\u001b[0m: name 'get_unemployment_data' is not defined"
     ]
    }
   ],
   "source": [
    "# Load the unemployment data\n",
    "uemp_states = get_unemployment_data()\n",
    "\n",
    "if not uemp_states.empty:\n",
    "    # Prepare the data for modeling\n",
    "    X = uemp_states.index.astype(int).values.reshape(-1, 1)  # Convert dates to integers\n",
    "    y = uemp_states.mean(axis=1).values  # Use mean unemployment rate across all states\n",
    "\n",
    "    # Split the data into training and testing sets\n",
    "    X_train, X_test, y_train, y_test = train_test_split(X, y, test_size=0.2, random_state=42)\n",
    "\n",
    "    # Create and train the Linear Regression model\n",
    "    model = LinearRegression()\n",
    "    model.fit(X_train, y_train)\n",
    "\n",
    "    # Make predictions\n",
    "    y_pred = model.predict(X_test)\n",
    "\n",
    "    # Calculate metrics\n",
    "    mse = mean_squared_error(y_test, y_pred)\n",
    "    r2 = r2_score(y_test, y_pred)\n",
    "\n",
    "    # Create a scatter plot using Plotly Express\n",
    "    fig = px.scatter(x=y_test, y=y_pred, labels={'x': 'Actual Values', 'y': 'Predicted Values'},\n",
    "                     title='Linear Regression: Actual vs Predicted Unemployment Rates')\n",
    "\n",
    "    # Add a diagonal line for perfect predictions\n",
    "    fig.add_scatter(x=[y_test.min(), y_test.max()], y=[y_test.min(), y_test.max()], \n",
    "                    mode='lines', line=dict(color='red', dash='dash'), name='Perfect Prediction')\n",
    "\n",
    "    # Display the plot and metrics using Streamlit\n",
    "    st.plotly_chart(fig)\n",
    "    st.write(f\"Mean Squared Error: {mse:.4f}\")\n",
    "    st.write(f\"R-squared Score: {r2:.4f}\")\n",
    "\n",
    "    # Display model coefficients\n",
    "    st.write(\"Model Coefficients:\")\n",
    "    st.write(f\"Slope: {model.coef_[0]:.4f}\")\n",
    "    st.write(f\"Intercept: {model.intercept_:.4f}\")\n",
    "\n",
    "else:\n",
    "    st.warning(\"No unemployment data available for modeling.\")\n"
   ]
  },
  {
   "cell_type": "markdown",
   "metadata": {},
   "source": []
  }
 ],
 "metadata": {
  "kernelspec": {
   "display_name": "jhu",
   "language": "python",
   "name": "python3"
  },
  "language_info": {
   "codemirror_mode": {
    "name": "ipython",
    "version": 3
   },
   "file_extension": ".py",
   "mimetype": "text/x-python",
   "name": "python",
   "nbconvert_exporter": "python",
   "pygments_lexer": "ipython3",
   "version": "3.9.19"
  }
 },
 "nbformat": 4,
 "nbformat_minor": 2
}
