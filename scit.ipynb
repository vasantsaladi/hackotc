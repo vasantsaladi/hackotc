{
 "cells": [
  {
   "cell_type": "code",
   "execution_count": 1,
   "metadata": {},
   "outputs": [],
   "source": [
    "import streamlit as st\n",
    "import pandas as pd\n",
    "import numpy as np\n",
    "import matplotlib.pyplot as plt\n",
    "import plotly.express as px\n",
    "from fredapi import Fred\n",
    "from dotenv import load_dotenv\n",
    "import os\n",
    "from sklearn.model_selection import train_test_split\n",
    "from sklearn.linear_model import LinearRegression\n",
    "from sklearn.metrics import mean_squared_error, r2_score\n"
   ]
  },
  {
   "cell_type": "code",
   "execution_count": 3,
   "metadata": {},
   "outputs": [
    {
     "name": "stdout",
     "output_type": "stream",
     "text": [
      "Dataset shape: (20640, 8)\n",
      "Feature names: ['MedInc', 'HouseAge', 'AveRooms', 'AveBedrms', 'Population', 'AveOccup', 'Latitude', 'Longitude']\n",
      "Target name: ['MedHouseVal']\n"
     ]
    }
   ],
   "source": [
    "\n",
    "# The load_boston dataset has been removed from scikit-learn.\n",
    "# We'll use the California housing dataset instead.\n",
    "from sklearn.datasets import fetch_california_housing\n",
    "\n",
    "# Fetch the California housing dataset\n",
    "housing = fetch_california_housing()\n",
    "X, y = housing.data, housing.target\n",
    "\n",
    "# Print some information about the dataset\n",
    "print(\"Dataset shape:\", X.shape)\n",
    "print(\"Feature names:\", housing.feature_names)\n",
    "print(\"Target name:\", housing.target_names)\n"
   ]
  },
  {
   "cell_type": "code",
   "execution_count": 5,
   "metadata": {},
   "outputs": [
    {
     "name": "stdout",
     "output_type": "stream",
     "text": [
      "Linear Regression Results:\n",
      "Mean Squared Error: 0.555891598695242\n",
      "R-squared Score: 0.5757877060324526\n",
      "\n",
      "K-Nearest Neighbors Results:\n",
      "Mean Squared Error: 1.1186823858768293\n",
      "R-squared Score: 0.14631049965900345\n",
      "\n",
      "First 3 predictions (Linear Regression): [0.71912284 1.76401657 2.70965883]\n",
      "First 3 predictions (KNN): [1.623  1.0822 2.8924]\n"
     ]
    }
   ],
   "source": [
    "from sklearn.neighbors import KNeighborsRegressor\n",
    "\n",
    "# Split the data into training and testing sets\n",
    "X_train, X_test, y_train, y_test = train_test_split(X, y, test_size=0.2, random_state=42)\n",
    "\n",
    "# Initialize and train the Linear Regression model\n",
    "lr_model = LinearRegression()\n",
    "lr_model.fit(X_train, y_train)\n",
    "\n",
    "# Make predictions on the test set\n",
    "lr_predictions = lr_model.predict(X_test)\n",
    "\n",
    "# Print some evaluation metrics\n",
    "print(\"Linear Regression Results:\")\n",
    "print(\"Mean Squared Error:\", mean_squared_error(y_test, lr_predictions))\n",
    "print(\"R-squared Score:\", r2_score(y_test, lr_predictions))\n",
    "\n",
    "# Initialize and train the K-Nearest Neighbors model\n",
    "knn_model = KNeighborsRegressor(n_neighbors=5)\n",
    "knn_model.fit(X_train, y_train)\n",
    "\n",
    "# Make predictions on the test set\n",
    "knn_predictions = knn_model.predict(X_test)\n",
    "\n",
    "# Print some evaluation metrics\n",
    "print(\"\\nK-Nearest Neighbors Results:\")\n",
    "print(\"Mean Squared Error:\", mean_squared_error(y_test, knn_predictions))\n",
    "print(\"R-squared Score:\", r2_score(y_test, knn_predictions))\n",
    "\n",
    "# Print the first 3 predictions from both models\n",
    "print(\"\\nFirst 3 predictions (Linear Regression):\", lr_predictions[:3])\n",
    "print(\"First 3 predictions (KNN):\", knn_predictions[:3])\n",
    "# Import KNeighborsRegressor\n",
    "\n",
    "# The rest of the code remains the same\n",
    "\n"
   ]
  },
  {
   "cell_type": "code",
   "execution_count": 7,
   "metadata": {},
   "outputs": [
    {
     "name": "stderr",
     "output_type": "stream",
     "text": [
      "/var/folders/bb/h215m9_n4s942nm7pw18_zrr0000gn/T/ipykernel_26422/1408758940.py:19: UserWarning: FigureCanvasAgg is non-interactive, and thus cannot be shown\n",
      "  plt.show()\n"
     ]
    }
   ],
   "source": [
    "# Load the California housing dataset\n",
    "housing = fetch_california_housing()\n",
    "X, y = housing.data, housing.target\n",
    "\n",
    "# Create a KNeighborsRegressor model\n",
    "mod = KNeighborsRegressor().fit(X, y)\n",
    "\n",
    "# Make predictions\n",
    "pred = mod.predict(X)\n",
    "\n",
    "# Create a scatter plot\n",
    "plt.figure(figsize=(10, 6))\n",
    "plt.scatter(pred, y, alpha=0.5)\n",
    "plt.xlabel('Predicted Values')\n",
    "plt.ylabel('Actual Values')\n",
    "plt.title('KNN Regression: Predicted vs Actual Values')\n",
    "plt.plot([y.min(), y.max()], [y.min(), y.max()], 'r--', lw=2)  # Add a diagonal line\n",
    "plt.tight_layout()\n",
    "st.pyplot(plt)"
   ]
  }
 ],
 "metadata": {
  "kernelspec": {
   "display_name": "Python 3 (ipykernel)",
   "language": "python",
   "name": "python3"
  },
  "language_info": {
   "codemirror_mode": {
    "name": "ipython",
    "version": 3
   },
   "file_extension": ".py",
   "mimetype": "text/x-python",
   "name": "python",
   "nbconvert_exporter": "python",
   "pygments_lexer": "ipython3",
   "version": "3.12.4"
  }
 },
 "nbformat": 4,
 "nbformat_minor": 4
}
