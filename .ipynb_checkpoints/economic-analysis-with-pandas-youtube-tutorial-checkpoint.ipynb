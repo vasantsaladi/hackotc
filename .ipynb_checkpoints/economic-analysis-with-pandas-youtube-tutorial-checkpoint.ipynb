{
 "cells": [
  {
   "cell_type": "markdown",
   "metadata": {},
   "source": [
    "# Economic Data Analysis with Fred & Pandas\n",
    "Pull The data, Visualize, discover insights... All with python/pandas!\n",
    "\n",
    "This notebook was created as a youtube tutorial you can find on my channel [here](https://www.youtube.com/channel/UCxladMszXan-jfgzyeIMyvw).\n",
    "\n",
    "<img src=\"https://miro.medium.com/proxy/1*xR4m0oOKz_jRgQU4Oge53g.jpeg\" width=\"500\" height=\"200\" />\n"
   ]
  },
  {
   "cell_type": "code",
   "execution_count": null,
   "metadata": {
    "execution": {
     "iopub.execute_input": "2022-10-20T14:23:46.814691Z",
     "iopub.status.busy": "2022-10-20T14:23:46.814038Z",
     "iopub.status.idle": "2022-10-20T14:23:59.644706Z",
     "shell.execute_reply": "2022-10-20T14:23:59.643914Z",
     "shell.execute_reply.started": "2022-10-20T14:23:46.814566Z"
    }
   },
   "outputs": [],
   "source": [
    "!pip install fredapi > /dev/null"
   ]
  },
  {
   "cell_type": "code",
   "execution_count": 1,
   "metadata": {},
   "outputs": [
    {
     "ename": "OptionError",
     "evalue": "Pattern matched multiple keys",
     "output_type": "error",
     "traceback": [
      "\u001b[1;31m---------------------------------------------------------------------------\u001b[0m",
      "\u001b[1;31mOptionError\u001b[0m                               Traceback (most recent call last)",
      "Cell \u001b[1;32mIn[1], line 8\u001b[0m\n\u001b[0;32m      5\u001b[0m \u001b[38;5;28;01mimport\u001b[39;00m \u001b[38;5;21;01mtime\u001b[39;00m\n\u001b[0;32m      7\u001b[0m plt\u001b[38;5;241m.\u001b[39mstyle\u001b[38;5;241m.\u001b[39muse(\u001b[38;5;124m'\u001b[39m\u001b[38;5;124mfivethirtyeight\u001b[39m\u001b[38;5;124m'\u001b[39m)\n\u001b[1;32m----> 8\u001b[0m \u001b[43mpd\u001b[49m\u001b[38;5;241;43m.\u001b[39;49m\u001b[43mset_option\u001b[49m\u001b[43m(\u001b[49m\u001b[38;5;124;43m'\u001b[39;49m\u001b[38;5;124;43mmax_columns\u001b[39;49m\u001b[38;5;124;43m'\u001b[39;49m\u001b[43m,\u001b[49m\u001b[43m \u001b[49m\u001b[38;5;241;43m500\u001b[39;49m\u001b[43m)\u001b[49m\n\u001b[0;32m      9\u001b[0m color_pal \u001b[38;5;241m=\u001b[39m plt\u001b[38;5;241m.\u001b[39mrcParams[\u001b[38;5;124m\"\u001b[39m\u001b[38;5;124maxes.prop_cycle\u001b[39m\u001b[38;5;124m\"\u001b[39m]\u001b[38;5;241m.\u001b[39mby_key()[\u001b[38;5;124m\"\u001b[39m\u001b[38;5;124mcolor\u001b[39m\u001b[38;5;124m\"\u001b[39m]\n\u001b[0;32m     11\u001b[0m \u001b[38;5;28;01mfrom\u001b[39;00m \u001b[38;5;21;01mfredapi\u001b[39;00m \u001b[38;5;28;01mimport\u001b[39;00m Fred\n",
      "File \u001b[1;32m~\\AppData\\Local\\Programs\\Python\\Python312\\Lib\\site-packages\\pandas\\_config\\config.py:274\u001b[0m, in \u001b[0;36mCallableDynamicDoc.__call__\u001b[1;34m(self, *args, **kwds)\u001b[0m\n\u001b[0;32m    273\u001b[0m \u001b[38;5;28;01mdef\u001b[39;00m \u001b[38;5;21m__call__\u001b[39m(\u001b[38;5;28mself\u001b[39m, \u001b[38;5;241m*\u001b[39margs, \u001b[38;5;241m*\u001b[39m\u001b[38;5;241m*\u001b[39mkwds) \u001b[38;5;241m-\u001b[39m\u001b[38;5;241m>\u001b[39m T:\n\u001b[1;32m--> 274\u001b[0m     \u001b[38;5;28;01mreturn\u001b[39;00m \u001b[38;5;28;43mself\u001b[39;49m\u001b[38;5;241;43m.\u001b[39;49m\u001b[38;5;18;43m__func__\u001b[39;49m\u001b[43m(\u001b[49m\u001b[38;5;241;43m*\u001b[39;49m\u001b[43margs\u001b[49m\u001b[43m,\u001b[49m\u001b[43m \u001b[49m\u001b[38;5;241;43m*\u001b[39;49m\u001b[38;5;241;43m*\u001b[39;49m\u001b[43mkwds\u001b[49m\u001b[43m)\u001b[49m\n",
      "File \u001b[1;32m~\\AppData\\Local\\Programs\\Python\\Python312\\Lib\\site-packages\\pandas\\_config\\config.py:167\u001b[0m, in \u001b[0;36m_set_option\u001b[1;34m(*args, **kwargs)\u001b[0m\n\u001b[0;32m    164\u001b[0m     \u001b[38;5;28;01mraise\u001b[39;00m \u001b[38;5;167;01mTypeError\u001b[39;00m(\u001b[38;5;124mf\u001b[39m\u001b[38;5;124m'\u001b[39m\u001b[38;5;124m_set_option() got an unexpected keyword argument \u001b[39m\u001b[38;5;124m\"\u001b[39m\u001b[38;5;132;01m{\u001b[39;00mkwarg\u001b[38;5;132;01m}\u001b[39;00m\u001b[38;5;124m\"\u001b[39m\u001b[38;5;124m'\u001b[39m)\n\u001b[0;32m    166\u001b[0m \u001b[38;5;28;01mfor\u001b[39;00m k, v \u001b[38;5;129;01min\u001b[39;00m \u001b[38;5;28mzip\u001b[39m(args[::\u001b[38;5;241m2\u001b[39m], args[\u001b[38;5;241m1\u001b[39m::\u001b[38;5;241m2\u001b[39m]):\n\u001b[1;32m--> 167\u001b[0m     key \u001b[38;5;241m=\u001b[39m \u001b[43m_get_single_key\u001b[49m\u001b[43m(\u001b[49m\u001b[43mk\u001b[49m\u001b[43m,\u001b[49m\u001b[43m \u001b[49m\u001b[43msilent\u001b[49m\u001b[43m)\u001b[49m\n\u001b[0;32m    169\u001b[0m     o \u001b[38;5;241m=\u001b[39m _get_registered_option(key)\n\u001b[0;32m    170\u001b[0m     \u001b[38;5;28;01mif\u001b[39;00m o \u001b[38;5;129;01mand\u001b[39;00m o\u001b[38;5;241m.\u001b[39mvalidator:\n",
      "File \u001b[1;32m~\\AppData\\Local\\Programs\\Python\\Python312\\Lib\\site-packages\\pandas\\_config\\config.py:134\u001b[0m, in \u001b[0;36m_get_single_key\u001b[1;34m(pat, silent)\u001b[0m\n\u001b[0;32m    132\u001b[0m     \u001b[38;5;28;01mraise\u001b[39;00m OptionError(\u001b[38;5;124mf\u001b[39m\u001b[38;5;124m\"\u001b[39m\u001b[38;5;124mNo such keys(s): \u001b[39m\u001b[38;5;132;01m{\u001b[39;00m\u001b[38;5;28mrepr\u001b[39m(pat)\u001b[38;5;132;01m}\u001b[39;00m\u001b[38;5;124m\"\u001b[39m)\n\u001b[0;32m    133\u001b[0m \u001b[38;5;28;01mif\u001b[39;00m \u001b[38;5;28mlen\u001b[39m(keys) \u001b[38;5;241m>\u001b[39m \u001b[38;5;241m1\u001b[39m:\n\u001b[1;32m--> 134\u001b[0m     \u001b[38;5;28;01mraise\u001b[39;00m OptionError(\u001b[38;5;124m\"\u001b[39m\u001b[38;5;124mPattern matched multiple keys\u001b[39m\u001b[38;5;124m\"\u001b[39m)\n\u001b[0;32m    135\u001b[0m key \u001b[38;5;241m=\u001b[39m keys[\u001b[38;5;241m0\u001b[39m]\n\u001b[0;32m    137\u001b[0m \u001b[38;5;28;01mif\u001b[39;00m \u001b[38;5;129;01mnot\u001b[39;00m silent:\n",
      "\u001b[1;31mOptionError\u001b[0m: Pattern matched multiple keys"
     ]
    }
   ],
   "source": [
    "import pandas as pd\n",
    "import numpy as np\n",
    "import matplotlib.pyplot as plt\n",
    "import plotly.express as px\n",
    "import time\n",
    "\n",
    "plt.style.use('fivethirtyeight')\n",
    "pd.set_option('max_columns', 500)\n",
    "color_pal = plt.rcParams[\"axes.prop_cycle\"].by_key()[\"color\"]\n",
    "\n",
    "from fredapi import Fred\n",
    "\n",
    "fred_key = 'e4b2fd586fd68f9198370f558a975f3a'\n",
    "\n",
    "from kaggle_secrets import UserSecretsClient\n",
    "secrets = UserSecretsClient()\n",
    "fred_key = secrets.get_secret('fred-api')"
   ]
  },
  {
   "cell_type": "markdown",
   "metadata": {},
   "source": [
    "# 1. Create The Fred Object"
   ]
  },
  {
   "cell_type": "code",
   "execution_count": null,
   "metadata": {
    "execution": {
     "iopub.execute_input": "2022-10-20T14:24:11.321089Z",
     "iopub.status.busy": "2022-10-20T14:24:11.320839Z",
     "iopub.status.idle": "2022-10-20T14:24:11.325676Z",
     "shell.execute_reply": "2022-10-20T14:24:11.324727Z",
     "shell.execute_reply.started": "2022-10-20T14:24:11.321059Z"
    }
   },
   "outputs": [],
   "source": [
    "fred = Fred(api_key=fred_key)"
   ]
  },
  {
   "cell_type": "markdown",
   "metadata": {
    "execution": {
     "iopub.execute_input": "2022-04-23T16:09:16.180208Z",
     "iopub.status.busy": "2022-04-23T16:09:16.179892Z",
     "iopub.status.idle": "2022-04-23T16:09:16.186411Z",
     "shell.execute_reply": "2022-04-23T16:09:16.185328Z",
     "shell.execute_reply.started": "2022-04-23T16:09:16.180169Z"
    }
   },
   "source": [
    "# 2. Search for economic data!"
   ]
  },
  {
   "cell_type": "code",
   "execution_count": null,
   "metadata": {
    "execution": {
     "iopub.execute_input": "2022-10-20T14:24:12.17785Z",
     "iopub.status.busy": "2022-10-20T14:24:12.17751Z",
     "iopub.status.idle": "2022-10-20T14:24:14.932551Z",
     "shell.execute_reply": "2022-10-20T14:24:14.931827Z",
     "shell.execute_reply.started": "2022-10-20T14:24:12.177814Z"
    }
   },
   "outputs": [],
   "source": [
    "sp_search = fred.search('S&P', order_by='popularity')"
   ]
  },
  {
   "cell_type": "code",
   "execution_count": null,
   "metadata": {
    "execution": {
     "iopub.execute_input": "2022-10-20T14:24:14.934679Z",
     "iopub.status.busy": "2022-10-20T14:24:14.934319Z",
     "iopub.status.idle": "2022-10-20T14:24:14.962769Z",
     "shell.execute_reply": "2022-10-20T14:24:14.961753Z",
     "shell.execute_reply.started": "2022-10-20T14:24:14.934636Z"
    }
   },
   "outputs": [],
   "source": [
    "sp_search.head()"
   ]
  },
  {
   "cell_type": "markdown",
   "metadata": {},
   "source": [
    "# 3. Pull Raw Data & Plot"
   ]
  },
  {
   "cell_type": "code",
   "execution_count": null,
   "metadata": {
    "execution": {
     "iopub.execute_input": "2022-10-20T14:24:21.237544Z",
     "iopub.status.busy": "2022-10-20T14:24:21.236666Z",
     "iopub.status.idle": "2022-10-20T14:24:22.732091Z",
     "shell.execute_reply": "2022-10-20T14:24:22.731417Z",
     "shell.execute_reply.started": "2022-10-20T14:24:21.23749Z"
    }
   },
   "outputs": [],
   "source": [
    "sp500 = fred.get_series(series_id='SP500')\n",
    "sp500.plot(figsize=(10, 5), title='S&P 500', lw=2)\n",
    "plt.show()"
   ]
  },
  {
   "cell_type": "markdown",
   "metadata": {},
   "source": [
    "# 4. Pull and Join Multiple Data Series"
   ]
  },
  {
   "cell_type": "code",
   "execution_count": null,
   "metadata": {
    "execution": {
     "iopub.execute_input": "2022-10-20T14:24:51.950733Z",
     "iopub.status.busy": "2022-10-20T14:24:51.950427Z",
     "iopub.status.idle": "2022-10-20T14:24:54.261942Z",
     "shell.execute_reply": "2022-10-20T14:24:54.261116Z",
     "shell.execute_reply.started": "2022-10-20T14:24:51.950703Z"
    }
   },
   "outputs": [],
   "source": [
    "unemp_df = fred.search('unemployment rate state', filter=('frequency','Monthly'))\n",
    "unemp_df = unemp_df.query('seasonal_adjustment == \"Seasonally Adjusted\" and units == \"Percent\"')\n",
    "unemp_df = unemp_df.loc[unemp_df['title'].str.contains('Unemployment Rate')]"
   ]
  },
  {
   "cell_type": "code",
   "execution_count": null,
   "metadata": {
    "execution": {
     "iopub.execute_input": "2022-10-20T14:24:58.114688Z",
     "iopub.status.busy": "2022-10-20T14:24:58.1144Z",
     "iopub.status.idle": "2022-10-20T14:26:09.995729Z",
     "shell.execute_reply": "2022-10-20T14:26:09.994705Z",
     "shell.execute_reply.started": "2022-10-20T14:24:58.114657Z"
    }
   },
   "outputs": [],
   "source": [
    "all_results = []\n",
    "\n",
    "for myid in unemp_df.index:\n",
    "    results = fred.get_series(myid)\n",
    "    results = results.to_frame(name=myid)\n",
    "    all_results.append(results)\n",
    "    time.sleep(0.1) # Don't request to fast and get blocked\n",
    "uemp_results = pd.concat(all_results, axis=1)"
   ]
  },
  {
   "cell_type": "code",
   "execution_count": null,
   "metadata": {
    "execution": {
     "iopub.execute_input": "2022-10-20T14:26:40.544717Z",
     "iopub.status.busy": "2022-10-20T14:26:40.544432Z",
     "iopub.status.idle": "2022-10-20T14:26:40.555505Z",
     "shell.execute_reply": "2022-10-20T14:26:40.554784Z",
     "shell.execute_reply.started": "2022-10-20T14:26:40.544688Z"
    }
   },
   "outputs": [],
   "source": [
    "cols_to_drop = []\n",
    "for i in uemp_results:\n",
    "    if len(i) > 4:\n",
    "        cols_to_drop.append(i)\n",
    "uemp_results = uemp_results.drop(columns = cols_to_drop, axis=1)"
   ]
  },
  {
   "cell_type": "code",
   "execution_count": null,
   "metadata": {
    "execution": {
     "iopub.execute_input": "2022-10-20T14:27:38.640799Z",
     "iopub.status.busy": "2022-10-20T14:27:38.639757Z",
     "iopub.status.idle": "2022-10-20T14:27:38.651823Z",
     "shell.execute_reply": "2022-10-20T14:27:38.650896Z",
     "shell.execute_reply.started": "2022-10-20T14:27:38.64075Z"
    }
   },
   "outputs": [],
   "source": [
    "uemp_states = uemp_results.copy()  #.drop('UNRATE', axis=1)\n",
    "uemp_states = uemp_states.dropna()\n",
    "id_to_state = unemp_df['title'].str.replace('Unemployment Rate in ','').to_dict()\n",
    "uemp_states.columns = [id_to_state[c] for c in uemp_states.columns]"
   ]
  },
  {
   "cell_type": "code",
   "execution_count": null,
   "metadata": {
    "execution": {
     "iopub.execute_input": "2022-10-20T14:27:41.110919Z",
     "iopub.status.busy": "2022-10-20T14:27:41.110629Z",
     "iopub.status.idle": "2022-10-20T14:27:43.326871Z",
     "shell.execute_reply": "2022-10-20T14:27:43.325883Z",
     "shell.execute_reply.started": "2022-10-20T14:27:41.110889Z"
    }
   },
   "outputs": [],
   "source": [
    "# Plot States Unemployment Rate\n",
    "px.line(uemp_states)"
   ]
  },
  {
   "cell_type": "markdown",
   "metadata": {},
   "source": [
    "# Pull April 2020 Unemployment Rate Per State"
   ]
  },
  {
   "cell_type": "code",
   "execution_count": null,
   "metadata": {
    "execution": {
     "iopub.execute_input": "2022-10-20T14:29:14.502202Z",
     "iopub.status.busy": "2022-10-20T14:29:14.501914Z",
     "iopub.status.idle": "2022-10-20T14:29:15.300032Z",
     "shell.execute_reply": "2022-10-20T14:29:15.29912Z",
     "shell.execute_reply.started": "2022-10-20T14:29:14.502173Z"
    }
   },
   "outputs": [],
   "source": [
    "ax = uemp_states.loc[uemp_states.index == '2020-05-01'].T \\\n",
    "    .sort_values('2020-05-01') \\\n",
    "    .plot(kind='barh', figsize=(8, 12), width=0.7, edgecolor='black',\n",
    "          title='Unemployment Rate by State, May 2020')\n",
    "ax.legend().remove()\n",
    "ax.set_xlabel('% Unemployed')\n",
    "plt.show()"
   ]
  },
  {
   "cell_type": "markdown",
   "metadata": {
    "execution": {
     "iopub.execute_input": "2022-04-23T16:50:12.22967Z",
     "iopub.status.busy": "2022-04-23T16:50:12.229185Z",
     "iopub.status.idle": "2022-04-23T16:50:12.234535Z",
     "shell.execute_reply": "2022-04-23T16:50:12.233888Z",
     "shell.execute_reply.started": "2022-04-23T16:50:12.229614Z"
    }
   },
   "source": [
    "# Pull Participation Rate"
   ]
  },
  {
   "cell_type": "code",
   "execution_count": null,
   "metadata": {
    "execution": {
     "iopub.execute_input": "2022-10-20T14:29:20.158326Z",
     "iopub.status.busy": "2022-10-20T14:29:20.158007Z",
     "iopub.status.idle": "2022-10-20T14:29:21.365266Z",
     "shell.execute_reply": "2022-10-20T14:29:21.364254Z",
     "shell.execute_reply.started": "2022-10-20T14:29:20.158279Z"
    }
   },
   "outputs": [],
   "source": [
    "part_df = fred.search('participation rate state', filter=('frequency','Monthly'))\n",
    "part_df = part_df.query('seasonal_adjustment == \"Seasonally Adjusted\" and units == \"Percent\"')"
   ]
  },
  {
   "cell_type": "code",
   "execution_count": null,
   "metadata": {
    "execution": {
     "iopub.execute_input": "2022-10-20T14:29:22.590802Z",
     "iopub.status.busy": "2022-10-20T14:29:22.590492Z",
     "iopub.status.idle": "2022-10-20T14:30:55.180054Z",
     "shell.execute_reply": "2022-10-20T14:30:55.179053Z",
     "shell.execute_reply.started": "2022-10-20T14:29:22.590766Z"
    }
   },
   "outputs": [],
   "source": [
    "part_id_to_state = part_df['title'].str.replace('Labor Force Participation Rate for ','').to_dict()\n",
    "\n",
    "all_results = []\n",
    "\n",
    "for myid in part_df.index:\n",
    "    results = fred.get_series(myid)\n",
    "    results = results.to_frame(name=myid)\n",
    "    all_results.append(results)\n",
    "    time.sleep(0.1) # Don't request to fast and get blocked\n",
    "part_states = pd.concat(all_results, axis=1)\n",
    "part_states.columns = [part_id_to_state[c] for c in part_states.columns]"
   ]
  },
  {
   "cell_type": "markdown",
   "metadata": {},
   "source": [
    "# Plot Unemployment vs Participation for each state!"
   ]
  },
  {
   "cell_type": "code",
   "execution_count": null,
   "metadata": {
    "execution": {
     "iopub.execute_input": "2022-10-20T14:30:57.554512Z",
     "iopub.status.busy": "2022-10-20T14:30:57.554099Z",
     "iopub.status.idle": "2022-10-20T14:30:57.561665Z",
     "shell.execute_reply": "2022-10-20T14:30:57.560742Z",
     "shell.execute_reply.started": "2022-10-20T14:30:57.554466Z"
    }
   },
   "outputs": [],
   "source": [
    "# Fix DC\n",
    "uemp_states = uemp_states.rename(columns={'the District of Columbia':'District Of Columbia'})"
   ]
  },
  {
   "cell_type": "code",
   "execution_count": null,
   "metadata": {
    "execution": {
     "iopub.execute_input": "2022-10-20T14:31:58.707875Z",
     "iopub.status.busy": "2022-10-20T14:31:58.707576Z",
     "iopub.status.idle": "2022-10-20T14:32:27.137163Z",
     "shell.execute_reply": "2022-10-20T14:32:27.136556Z",
     "shell.execute_reply.started": "2022-10-20T14:31:58.707835Z"
    }
   },
   "outputs": [],
   "source": [
    "fig, axs = plt.subplots(10, 5, figsize=(30, 30), sharex=True)\n",
    "axs = axs.flatten()\n",
    "\n",
    "i = 0\n",
    "for state in uemp_states.columns:\n",
    "    if state in [\"District Of Columbia\",\"Puerto Rico\"]:\n",
    "        continue\n",
    "    ax2 = axs[i].twinx()\n",
    "    uemp_states.query('index >= 2020 and index < 2022')[state] \\\n",
    "        .plot(ax=axs[i], label='Unemployment')\n",
    "    part_states.query('index >= 2020 and index < 2022')[state] \\\n",
    "        .plot(ax=ax2, label='Participation', color=color_pal[1])\n",
    "    ax2.grid(False)\n",
    "    axs[i].set_title(state)\n",
    "    i += 1\n",
    "plt.tight_layout()\n",
    "plt.show()"
   ]
  },
  {
   "cell_type": "code",
   "execution_count": null,
   "metadata": {
    "execution": {
     "iopub.execute_input": "2022-10-20T14:41:28.259356Z",
     "iopub.status.busy": "2022-10-20T14:41:28.259058Z",
     "iopub.status.idle": "2022-10-20T14:41:28.668029Z",
     "shell.execute_reply": "2022-10-20T14:41:28.667122Z",
     "shell.execute_reply.started": "2022-10-20T14:41:28.259303Z"
    }
   },
   "outputs": [],
   "source": [
    "state = 'California'\n",
    "fig, ax = plt.subplots(figsize=(10, 5), sharex=True)\n",
    "ax2 = ax.twinx()\n",
    "uemp_states2 = uemp_states.asfreq('MS')\n",
    "l1 = uemp_states2.query('index >= 2020 and index < 2022')[state] \\\n",
    "    .plot(ax=ax, label='Unemployment')\n",
    "l2 = part_states.dropna().query('index >= 2020 and index < 2022')[state] \\\n",
    "    .plot(ax=ax2, label='Participation', color=color_pal[1])\n",
    "ax2.grid(False)\n",
    "ax.set_title(state)\n",
    "fig.legend(labels=['Unemployment','Participation'])\n",
    "plt.show()"
   ]
  },
  {
   "cell_type": "markdown",
   "metadata": {},
   "source": [
    "# The End\n",
    "\n",
    "Now you explore!"
   ]
  }
 ],
 "metadata": {
  "kaggle": {
   "accelerator": "none",
   "dataSources": [],
   "dockerImageVersionId": 30178,
   "isGpuEnabled": false,
   "isInternetEnabled": true,
   "language": "python",
   "sourceType": "notebook"
  },
  "kernelspec": {
   "display_name": "Python 3 (ipykernel)",
   "language": "python",
   "name": "python3"
  },
  "language_info": {
   "codemirror_mode": {
    "name": "ipython",
    "version": 3
   },
   "file_extension": ".py",
   "mimetype": "text/x-python",
   "name": "python",
   "nbconvert_exporter": "python",
   "pygments_lexer": "ipython3",
   "version": "3.12.4"
  }
 },
 "nbformat": 4,
 "nbformat_minor": 4
}
